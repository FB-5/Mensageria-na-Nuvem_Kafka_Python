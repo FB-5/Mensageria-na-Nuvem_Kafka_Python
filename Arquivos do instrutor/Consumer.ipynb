{
  "nbformat": 4,
  "nbformat_minor": 0,
  "metadata": {
    "colab": {
      "name": "Consumer.ipynb",
      "provenance": []
    },
    "kernelspec": {
      "name": "python3",
      "display_name": "Python 3"
    }
  },
  "cells": [
    {
      "cell_type": "code",
      "metadata": {
        "colab": {
          "base_uri": "https://localhost:8080/"
        },
        "id": "axGfpy9OH595",
        "outputId": "bb81412c-6557-4b77-bb38-ec2fe9fa278a"
      },
      "source": [
        "!pip install confluent_kafka"
      ],
      "execution_count": null,
      "outputs": [
        {
          "output_type": "stream",
          "text": [
            "Requirement already satisfied: confluent_kafka in /usr/local/lib/python3.6/dist-packages (1.5.0)\n"
          ],
          "name": "stdout"
        }
      ]
    },
    {
      "cell_type": "code",
      "metadata": {
        "colab": {
          "base_uri": "https://localhost:8080/"
        },
        "id": "aT7mYbrQISIW",
        "outputId": "fc8ba4d8-7891-45e3-bb68-590e6c173a70"
      },
      "source": [
        "import sys\r\n",
        "import os\r\n",
        "\r\n",
        "from confluent_kafka import Consumer, KafkaException, KafkaError\r\n",
        "\r\n",
        "def createConsumer():\r\n",
        "\r\n",
        "    topics = ['25fi2ymi-default']\r\n",
        "\r\n",
        "    # Consumer configuration\r\n",
        "    # See https://github.com/edenhill/librdkafka/blob/master/CONFIGURATION.md\r\n",
        "    conf = {\r\n",
        "        'bootstrap.servers': 'tricycle-01.srvs.cloudkafka.com:9094,tricycle-02.srvs.cloudkafka.com:9094,tricycle-03.srvs.cloudkafka.com:9094',\r\n",
        "        'group.id': \"%s-consumer\" % '25fi2ymi',\r\n",
        "        'session.timeout.ms': 6000,\r\n",
        "        'default.topic.config': {'auto.offset.reset': 'smallest'},\r\n",
        "        'security.protocol': 'SASL_SSL',\r\n",
        "\t'sasl.mechanisms': 'SCRAM-SHA-256',\r\n",
        "        'sasl.username': '25fi2ymi',\r\n",
        "        'sasl.password': 'owaqWZ8jve0rsct5yHS3l9xGGK1rIL82'\r\n",
        "    }\r\n",
        "\r\n",
        "    c = Consumer(conf)\r\n",
        "    c.subscribe(topics)\r\n",
        "    try:\r\n",
        "        while True:\r\n",
        "            msg = c.poll(timeout=1.0)\r\n",
        "            if msg is None:\r\n",
        "                continue\r\n",
        "            if msg.error():\r\n",
        "                # Error or event\r\n",
        "                if msg.error().code() == KafkaError._PARTITION_EOF:\r\n",
        "                    # End of partition event\r\n",
        "                    sys.stderr.write('%% %s [%d] reached end at offset %d\\n' %\r\n",
        "                                     (msg.topic(), msg.partition(), msg.offset()))\r\n",
        "                elif msg.error():\r\n",
        "                    # Error\r\n",
        "                    raise KafkaException(msg.error())\r\n",
        "            else:\r\n",
        "                # Proper message\r\n",
        "                sys.stderr.write('%% %s [%d] at offset %d with key %s:\\n' %\r\n",
        "                                 (msg.topic(), msg.partition(), msg.offset(),\r\n",
        "                                  str(msg.key())))\r\n",
        "                print(msg.value())\r\n",
        "\r\n",
        "    except KeyboardInterrupt:\r\n",
        "        sys.stderr.write('%% Aborted by user\\n')\r\n",
        "\r\n",
        "    # Close down consumer to commit final offsets.\r\n",
        "    c.close()\r\n",
        "\r\n",
        "createConsumer()"
      ],
      "execution_count": null,
      "outputs": [
        {
          "output_type": "stream",
          "text": [
            "% 25fi2ymi-default [1] at offset 1 with key None:\n"
          ],
          "name": "stderr"
        },
        {
          "output_type": "stream",
          "text": [
            "b'my message new 2'\n"
          ],
          "name": "stdout"
        },
        {
          "output_type": "stream",
          "text": [
            "%% Aborted by user\n"
          ],
          "name": "stderr"
        }
      ]
    }
  ]
}