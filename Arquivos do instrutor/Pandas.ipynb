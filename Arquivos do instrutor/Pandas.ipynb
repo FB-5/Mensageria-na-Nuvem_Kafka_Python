{
  "nbformat": 4,
  "nbformat_minor": 0,
  "metadata": {
    "colab": {
      "name": "Pandas.ipynb",
      "provenance": [],
      "collapsed_sections": []
    },
    "kernelspec": {
      "name": "python3",
      "display_name": "Python 3"
    }
  },
  "cells": [
    {
      "cell_type": "code",
      "metadata": {
        "colab": {
          "base_uri": "https://localhost:8080/"
        },
        "id": "0udPnTfMeLt7",
        "outputId": "ec3aaf17-f77a-4bea-9bfd-f6376ad6f67c"
      },
      "source": [
        "import pandas as pd\r\n",
        "\r\n",
        "def createDataframe():\r\n",
        "\r\n",
        "  map = {\r\n",
        "      \"name\" : [\"Huguinho\", \"Student 1\", \"Student 2\"],\r\n",
        "      \"age\" : [ 28, 18, 32 ],\r\n",
        "      \"location\" : [\"Santos\", \"São Paulo\", \"Rio de Janeiro\"]\r\n",
        "  }\r\n",
        "\r\n",
        "  df = pd.DataFrame( map );\r\n",
        "\r\n",
        "  print( df );\r\n",
        "\r\n",
        "createDataframe()"
      ],
      "execution_count": 11,
      "outputs": [
        {
          "output_type": "stream",
          "text": [
            "        name  age        location\n",
            "0   Huguinho   28          Santos\n",
            "1  Student 1   18       São Paulo\n",
            "2  Student 2   32  Rio de Janeiro\n"
          ],
          "name": "stdout"
        }
      ]
    },
    {
      "cell_type": "code",
      "metadata": {
        "colab": {
          "base_uri": "https://localhost:8080/"
        },
        "id": "KbG7DjtHfTt1",
        "outputId": "9017a231-5b8f-420c-fb7f-681e1ca3baeb"
      },
      "source": [
        "def iterateDataframe():\r\n",
        "\r\n",
        "  map = {\r\n",
        "      \"name\" : [\"Huguinho\", \"Student 1\", \"Student 2\"],\r\n",
        "      \"age\" : [ 28, 18, 32 ],\r\n",
        "      \"location\" : [\"Santos\", \"São Paulo\", \"Rio de Janeiro\"]\r\n",
        "  }\r\n",
        "\r\n",
        "  df = pd.DataFrame( map );\r\n",
        "\r\n",
        "  # não indicado para alto volume de dados ( somente para conhecimento )\r\n",
        "  for index in df.index:\r\n",
        "    print(\"item\", df[\"name\"][ index ], \" | index\", index  );\r\n",
        "\r\n",
        "iterateDataframe()"
      ],
      "execution_count": 29,
      "outputs": [
        {
          "output_type": "stream",
          "text": [
            "item Huguinho  | index 0\n",
            "item Student 1  | index 1\n",
            "item Student 2  | index 2\n"
          ],
          "name": "stdout"
        }
      ]
    },
    {
      "cell_type": "code",
      "metadata": {
        "colab": {
          "base_uri": "https://localhost:8080/"
        },
        "id": "AQBbcG-Jh66V",
        "outputId": "e8a60a72-29f7-4a8f-f1f5-14f4661952a7"
      },
      "source": [
        "def addColumnDataframe():\r\n",
        "\r\n",
        "  map = {\r\n",
        "      \"name\" : [\"Huguinho\", \"Student 1\", \"Student 2\"],\r\n",
        "      \"age\" : [ 28, 18, 32 ],\r\n",
        "      \"location\" : [\"Santos\", \"São Paulo\", \"Rio de Janeiro\"]\r\n",
        "  }\r\n",
        "\r\n",
        "  df = pd.DataFrame( map );\r\n",
        "\r\n",
        "  # adicionando uma nova coluna\r\n",
        "  address = ['Rua de teste 1', 'Rua de teste 2', 'Rua de teste 3'];\r\n",
        "\r\n",
        "  df['address'] = address;\r\n",
        "\r\n",
        "  print( df )\r\n",
        "\r\n",
        "addColumnDataframe()"
      ],
      "execution_count": 31,
      "outputs": [
        {
          "output_type": "stream",
          "text": [
            "        name  age        location         address\n",
            "0   Huguinho   28          Santos  Rua de teste 1\n",
            "1  Student 1   18       São Paulo  Rua de teste 2\n",
            "2  Student 2   32  Rio de Janeiro  Rua de teste 3\n"
          ],
          "name": "stdout"
        }
      ]
    },
    {
      "cell_type": "code",
      "metadata": {
        "colab": {
          "base_uri": "https://localhost:8080/"
        },
        "id": "0DYN8v00iQqM",
        "outputId": "7f02eb09-30aa-4140-a193-4040d2346a6c"
      },
      "source": [
        "def removeColumnDataframe():\r\n",
        "\r\n",
        "  map = {\r\n",
        "      \"name\" : [\"Huguinho\", \"Student 1\", \"Student 2\"],\r\n",
        "      \"age\" : [ 28, 18, 32 ],\r\n",
        "      \"location\" : [\"Santos\", \"São Paulo\", \"Rio de Janeiro\"]\r\n",
        "  }\r\n",
        "\r\n",
        "  df = pd.DataFrame( map );\r\n",
        "\r\n",
        "  # Removendo a linha pelo índice\r\n",
        "  df = df.drop(1)\r\n",
        "\r\n",
        "  print( df )\r\n",
        "\r\n",
        "  print(\"---------------------------\")\r\n",
        "\r\n",
        "  # Removendo a coluna\r\n",
        "  df = df.drop( columns=[\"age\"] );\r\n",
        "\r\n",
        "  print ( df );\r\n",
        "\r\n",
        "removeColumnDataframe()"
      ],
      "execution_count": 37,
      "outputs": [
        {
          "output_type": "stream",
          "text": [
            "        name  age        location\n",
            "0   Huguinho   28          Santos\n",
            "2  Student 2   32  Rio de Janeiro\n",
            "---------------------------\n",
            "        name        location\n",
            "0   Huguinho          Santos\n",
            "2  Student 2  Rio de Janeiro\n"
          ],
          "name": "stdout"
        }
      ]
    },
    {
      "cell_type": "code",
      "metadata": {
        "colab": {
          "base_uri": "https://localhost:8080/"
        },
        "id": "7eYEEfdOjksq",
        "outputId": "4c949280-4637-4798-f600-2afe372af906"
      },
      "source": [
        "def filterDataframe():\r\n",
        "\r\n",
        "  map = {\r\n",
        "      \"name\" : [\"Huguinho\", \"Student 1\", \"Student 2\", \"Student 3\", \"Student 4\"],\r\n",
        "      \"age\" : [ 28, 18, 32, 17, 14 ],\r\n",
        "      \"location\" : [\"Santos\", \"São Paulo\", \"Rio de Janeiro\", \"São Paulo\", \"São Paulo\"]\r\n",
        "  }\r\n",
        "\r\n",
        "  df = pd.DataFrame( map );\r\n",
        "\r\n",
        "  # criando o filtro\r\n",
        "  filter = df[\"age\"] >= 18;\r\n",
        "\r\n",
        "  # Filtrando a lista\r\n",
        "  filteredList = df[ filter ];\r\n",
        "\r\n",
        "  print ( df );\r\n",
        "  print(\"----------------------\");\r\n",
        "  print( filteredList )\r\n",
        "\r\n",
        "filterDataframe()"
      ],
      "execution_count": 42,
      "outputs": [
        {
          "output_type": "stream",
          "text": [
            "        name  age        location\n",
            "0   Huguinho   28          Santos\n",
            "1  Student 1   18       São Paulo\n",
            "2  Student 2   32  Rio de Janeiro\n",
            "3  Student 3   17       São Paulo\n",
            "4  Student 4   14       São Paulo\n",
            "----------------------\n",
            "        name  age        location\n",
            "0   Huguinho   28          Santos\n",
            "1  Student 1   18       São Paulo\n",
            "2  Student 2   32  Rio de Janeiro\n"
          ],
          "name": "stdout"
        }
      ]
    },
    {
      "cell_type": "code",
      "metadata": {
        "colab": {
          "base_uri": "https://localhost:8080/"
        },
        "id": "k7mFnp0jkpd9",
        "outputId": "2625f8ab-ac8c-4dfa-f1fb-10dca3bbfe8f"
      },
      "source": [
        "def stringDataframe():\r\n",
        "\r\n",
        "  map = {\r\n",
        "      \"name\" : [\"Huguinho\", \"Student 1\", \"Student 2\", \"Student 3\", \"Student 4\"],\r\n",
        "      \"age\" : [ 28, 18, 32, 17, 14 ],\r\n",
        "      \"location\" : [\"santos\", \"são Paulo\", \"rio de Janeiro\", \"são Paulo\", \"São Paulo\"]\r\n",
        "  }\r\n",
        "\r\n",
        "  df = pd.DataFrame( map );\r\n",
        "\r\n",
        "\r\n",
        "  print(\"original dataframe\")\r\n",
        "  print ( df );\r\n",
        "  print(\"-------------------------------------------\");\r\n",
        "\r\n",
        "  # maiúscula\r\n",
        "  print()\r\n",
        "  print(\"Upper case\")\r\n",
        "  print( df[\"location\"].str.upper() )\r\n",
        "  print(\"--------------------------------------------\");\r\n",
        "\r\n",
        "  print()\r\n",
        "  print(\"Upper in dataframe\")\r\n",
        "  df[\"location\"] = df[\"location\"].str.upper()\r\n",
        "  print( df );\r\n",
        "  print(\"------------------------------------------\");\r\n",
        "\r\n",
        "  # Somente a primeira maiuscula\r\n",
        "  print()\r\n",
        "  print(\"Capitalize\")\r\n",
        "  df[\"location\"] = df[\"location\"].str.capitalize()\r\n",
        "  print( df );\r\n",
        "  print(\"------------------------------------------\");\r\n",
        "\r\n",
        "  # Somente a primeira de cada palavra\r\n",
        "  print()\r\n",
        "  print(\"Title\")\r\n",
        "  df[\"location\"] = df[\"location\"].str.title()\r\n",
        "  print( df );\r\n",
        "  print(\"------------------------------------------\");\r\n",
        "\r\n",
        "stringDataframe()"
      ],
      "execution_count": 54,
      "outputs": [
        {
          "output_type": "stream",
          "text": [
            "original dataframe\n",
            "        name  age        location\n",
            "0   Huguinho   28          santos\n",
            "1  Student 1   18       são Paulo\n",
            "2  Student 2   32  rio de Janeiro\n",
            "3  Student 3   17       são Paulo\n",
            "4  Student 4   14       São Paulo\n",
            "-------------------------------------------\n",
            "\n",
            "Upper case\n",
            "0            SANTOS\n",
            "1         SÃO PAULO\n",
            "2    RIO DE JANEIRO\n",
            "3         SÃO PAULO\n",
            "4         SÃO PAULO\n",
            "Name: location, dtype: object\n",
            "--------------------------------------------\n",
            "\n",
            "Upper in dataframe\n",
            "        name  age        location\n",
            "0   Huguinho   28          SANTOS\n",
            "1  Student 1   18       SÃO PAULO\n",
            "2  Student 2   32  RIO DE JANEIRO\n",
            "3  Student 3   17       SÃO PAULO\n",
            "4  Student 4   14       SÃO PAULO\n",
            "------------------------------------------\n",
            "\n",
            "Capitalize\n",
            "        name  age        location\n",
            "0   Huguinho   28          Santos\n",
            "1  Student 1   18       São paulo\n",
            "2  Student 2   32  Rio de janeiro\n",
            "3  Student 3   17       São paulo\n",
            "4  Student 4   14       São paulo\n",
            "------------------------------------------\n",
            "\n",
            "Title\n",
            "        name  age        location\n",
            "0   Huguinho   28          Santos\n",
            "1  Student 1   18       São Paulo\n",
            "2  Student 2   32  Rio De Janeiro\n",
            "3  Student 3   17       São Paulo\n",
            "4  Student 4   14       São Paulo\n",
            "------------------------------------------\n"
          ],
          "name": "stdout"
        }
      ]
    },
    {
      "cell_type": "code",
      "metadata": {
        "colab": {
          "base_uri": "https://localhost:8080/"
        },
        "id": "A7Oe8JlhmV25",
        "outputId": "1e9b71d6-fb99-4eff-9a0a-2173d4d9161a"
      },
      "source": [
        "def renameDataframe():\r\n",
        "\r\n",
        "  map = {\r\n",
        "      \"name\" : [\"Huguinho\", \"Student 1\", \"Student 2\", \"Student 3\", \"Student 4\"],\r\n",
        "      \"age\" : [ 28, 18, 32, 17, 14 ],\r\n",
        "      \"location\" : [\"Santos\", \"São Paulo\", \"Rio de Janeiro\", \"São Paulo\", \"São Paulo\"]\r\n",
        "  }\r\n",
        "\r\n",
        "  df = pd.DataFrame( map );\r\n",
        "\r\n",
        "  # renomeando\r\n",
        "  df = df.rename(columns={\"age\": \"idade\", \"location\": \"localizacao\"})\r\n",
        "\r\n",
        "  print ( df );\r\n",
        "  print(\"----------------------\");\r\n",
        "\r\n",
        "renameDataframe()"
      ],
      "execution_count": 56,
      "outputs": [
        {
          "output_type": "stream",
          "text": [
            "        name  idade     localizacao\n",
            "0   Huguinho     28          Santos\n",
            "1  Student 1     18       São Paulo\n",
            "2  Student 2     32  Rio de Janeiro\n",
            "3  Student 3     17       São Paulo\n",
            "4  Student 4     14       São Paulo\n",
            "----------------------\n"
          ],
          "name": "stdout"
        }
      ]
    },
    {
      "cell_type": "code",
      "metadata": {
        "colab": {
          "base_uri": "https://localhost:8080/"
        },
        "id": "7uwJmQ8Gm3LM",
        "outputId": "dafc7fed-a906-4b16-bdb2-9c8ad72c1e03"
      },
      "source": [
        "def jsonDataframe():\r\n",
        "\r\n",
        "  map = {\r\n",
        "      \"name\" : [\"Huguinho\", \"Student 1\", \"Student 2\", \"Student 3\", \"Student 4\"],\r\n",
        "      \"age\" : [ 28, 18, 32, 17, 14 ]\r\n",
        "  }\r\n",
        "\r\n",
        "  df = pd.DataFrame( map );\r\n",
        "\r\n",
        "  # json\r\n",
        "  json = df.to_json(orient=\"records\")\r\n",
        "\r\n",
        "  print ( df );\r\n",
        "  print(\"----------------------\");\r\n",
        "  print( json )\r\n",
        "\r\n",
        "jsonDataframe()"
      ],
      "execution_count": 59,
      "outputs": [
        {
          "output_type": "stream",
          "text": [
            "        name  age\n",
            "0   Huguinho   28\n",
            "1  Student 1   18\n",
            "2  Student 2   32\n",
            "3  Student 3   17\n",
            "4  Student 4   14\n",
            "----------------------\n",
            "[{\"name\":\"Huguinho\",\"age\":28},{\"name\":\"Student 1\",\"age\":18},{\"name\":\"Student 2\",\"age\":32},{\"name\":\"Student 3\",\"age\":17},{\"name\":\"Student 4\",\"age\":14}]\n"
          ],
          "name": "stdout"
        }
      ]
    },
    {
      "cell_type": "code",
      "metadata": {
        "colab": {
          "base_uri": "https://localhost:8080/"
        },
        "id": "HV35OdhloUZa",
        "outputId": "8d63ad54-4cd8-49de-a2d1-daca6cbc6dd8"
      },
      "source": [
        "def readCsv():\r\n",
        "  url = \"https://raw.githubusercontent.com/huguinho-alves/python_aceleracao_everys/main/arquivo.csv\"\r\n",
        "  df = pd.read_csv( url )\r\n",
        "\r\n",
        "  print( df )\r\n",
        "\r\n",
        "readCsv()"
      ],
      "execution_count": 62,
      "outputs": [
        {
          "output_type": "stream",
          "text": [
            "       name                title\n",
            "0  Huguinho  Expert IT Architect\n",
            "1  Student1              student\n",
            "2  Student2              student\n"
          ],
          "name": "stdout"
        }
      ]
    },
    {
      "cell_type": "code",
      "metadata": {
        "id": "5gWD9PeUtnw2"
      },
      "source": [
        ""
      ],
      "execution_count": null,
      "outputs": []
    }
  ]
}