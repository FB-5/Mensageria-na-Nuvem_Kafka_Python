{
  "nbformat": 4,
  "nbformat_minor": 0,
  "metadata": {
    "colab": {
      "name": "Producer.ipynb",
      "provenance": []
    },
    "kernelspec": {
      "name": "python3",
      "display_name": "Python 3"
    }
  },
  "cells": [
    {
      "cell_type": "code",
      "metadata": {
        "colab": {
          "base_uri": "https://localhost:8080/"
        },
        "id": "DWeRO4SdEVW9",
        "outputId": "05fa6785-d583-443f-eca8-1c09abd8849e"
      },
      "source": [
        "!pip install confluent_kafka"
      ],
      "execution_count": null,
      "outputs": [
        {
          "output_type": "stream",
          "text": [
            "Requirement already satisfied: confluent_kafka in /usr/local/lib/python3.6/dist-packages (1.5.0)\n"
          ],
          "name": "stdout"
        }
      ]
    },
    {
      "cell_type": "code",
      "metadata": {
        "colab": {
          "base_uri": "https://localhost:8080/"
        },
        "id": "P_X71RFmEeez",
        "outputId": "19bd61e6-04d2-4d08-e058-17f673ae3d6a"
      },
      "source": [
        "import sys\r\n",
        "import os\r\n",
        "\r\n",
        "from confluent_kafka import Producer\r\n",
        "\r\n",
        "def delivery_callback(err, msg):\r\n",
        "    if err:\r\n",
        "        print('%% Message failed delivery: %s\\n', err)\r\n",
        "    else:\r\n",
        "        print('%% Message delivered to %s [%d]\\n',\r\n",
        "                          (msg.topic(), msg.partition()))\r\n",
        "\r\n",
        "def createTopic():\r\n",
        "    print(\"init\");\r\n",
        "    #topic = '25fi2ymi-topic1'\r\n",
        "    topic = '25fi2ymi-default'\r\n",
        "\r\n",
        "    # Consumer configuration\r\n",
        "    # See https://github.com/edenhill/librdkafka/blob/master/CONFIGURATION.md\r\n",
        "    conf = {\r\n",
        "        'bootstrap.servers': 'tricycle-01.srvs.cloudkafka.com:9094,tricycle-02.srvs.cloudkafka.com:9094,tricycle-03.srvs.cloudkafka.com:9094',\r\n",
        "        'session.timeout.ms': 6000,\r\n",
        "        'default.topic.config': {'auto.offset.reset': 'smallest'},\r\n",
        "        'security.protocol': 'SASL_SSL',\r\n",
        "\t'sasl.mechanisms': 'SCRAM-SHA-256',\r\n",
        "        'sasl.username': '25fi2ymi',\r\n",
        "        'sasl.password': 'owaqWZ8jve0rsct5yHS3l9xGGK1rIL82'\r\n",
        "    }\r\n",
        "\r\n",
        "    p = Producer(conf)\r\n",
        "\r\n",
        "    try:\r\n",
        "        p.produce(topic, \"my message new 2\", callback=delivery_callback)\r\n",
        "    except BufferError as e:\r\n",
        "        print('%% Local producer queue is full (%d messages awaiting delivery): try again\\n',\r\n",
        "                          len(p))\r\n",
        "    p.poll(0)\r\n",
        "\r\n",
        "    print('%% Waiting for %d deliveries\\n' % len(p))\r\n",
        "    p.flush()\r\n",
        "\r\n",
        "createTopic();"
      ],
      "execution_count": null,
      "outputs": [
        {
          "output_type": "stream",
          "text": [
            "init\n",
            "% Waiting for 1 deliveries\n",
            "\n",
            "%% Message delivered to %s [%d]\n",
            " ('25fi2ymi-default', 1)\n"
          ],
          "name": "stdout"
        }
      ]
    }
  ]
}