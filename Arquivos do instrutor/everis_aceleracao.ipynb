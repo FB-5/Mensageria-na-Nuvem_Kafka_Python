{
  "nbformat": 4,
  "nbformat_minor": 0,
  "metadata": {
    "colab": {
      "name": "everis- aceleracao.ipynb",
      "provenance": [],
      "collapsed_sections": []
    },
    "kernelspec": {
      "name": "python3",
      "display_name": "Python 3"
    }
  },
  "cells": [
    {
      "cell_type": "code",
      "metadata": {
        "colab": {
          "base_uri": "https://localhost:8080/"
        },
        "id": "JIM949C883Zb",
        "outputId": "aafeae39-adc1-47a5-f9df-c113f3349144"
      },
      "source": [
        "def helloWorld():\r\n",
        "  name = 'Aceleração Gloval #4 - Everis'\r\n",
        "  print( name )\r\n",
        "\r\n",
        "helloWorld()"
      ],
      "execution_count": null,
      "outputs": [
        {
          "output_type": "stream",
          "text": [
            "Aceleração Gloval #4 - Everis\n"
          ],
          "name": "stdout"
        }
      ]
    },
    {
      "cell_type": "code",
      "metadata": {
        "colab": {
          "base_uri": "https://localhost:8080/"
        },
        "id": "z0WtFt2M90IF",
        "outputId": "908aaba0-b37a-42d9-a080-f9774cc0aa06"
      },
      "source": [
        "def calcBalada( age ):\r\n",
        "  \r\n",
        "  if( age >= 18 ):\r\n",
        "    print('Beleza, pode entrar na balada');\r\n",
        "  else:\r\n",
        "    print('Vaza, volta aqui mais tarde !');\r\n",
        "\r\n",
        "calcBalada( 28 )"
      ],
      "execution_count": null,
      "outputs": [
        {
          "output_type": "stream",
          "text": [
            "Beleza, pode entrar na balada\n"
          ],
          "name": "stdout"
        }
      ]
    },
    {
      "cell_type": "code",
      "metadata": {
        "colab": {
          "base_uri": "https://localhost:8080/"
        },
        "id": "z28FOnV4-jz7",
        "outputId": "d7a40703-f0d0-4b03-b89c-9716c0b59987"
      },
      "source": [
        "def forExample():\r\n",
        "  \r\n",
        "  # Definindo o array\r\n",
        "  names = ['Huguinho', 'John', 'John 2'];\r\n",
        "\r\n",
        "  for name in names:\r\n",
        "    print( ' Aceleração global - ' + name )\r\n",
        "\r\n",
        "# Invocando a função\r\n",
        "forExample()"
      ],
      "execution_count": null,
      "outputs": [
        {
          "output_type": "stream",
          "text": [
            " Aceleração global - Huguinho\n",
            " Aceleração global - John\n",
            " Aceleração global - John 2\n"
          ],
          "name": "stdout"
        }
      ]
    },
    {
      "cell_type": "code",
      "metadata": {
        "colab": {
          "base_uri": "https://localhost:8080/"
        },
        "id": "ixfL6dX8_2yl",
        "outputId": "e5ad51b6-3a9f-4f1b-9def-c883060a5433"
      },
      "source": [
        "def mapExample():\r\n",
        "\r\n",
        "  person1 = {\r\n",
        "      'name' : 'Huguinho',\r\n",
        "      'title' : 'Expert IT Techonology'\r\n",
        "  };\r\n",
        "\r\n",
        "  for key in person1:\r\n",
        "    print('key', key, ' | value', person1[ key ] )\r\n",
        "\r\n",
        "mapExample()"
      ],
      "execution_count": null,
      "outputs": [
        {
          "output_type": "stream",
          "text": [
            "key name  | value Huguinho\n",
            "key title  | value Expert IT Techonology\n"
          ],
          "name": "stdout"
        }
      ]
    },
    {
      "cell_type": "code",
      "metadata": {
        "colab": {
          "base_uri": "https://localhost:8080/"
        },
        "id": "F9m5sYFVAik2",
        "outputId": "0578deaa-dd41-4a97-b3fe-5ea3eeaa2ce9"
      },
      "source": [
        "def forWithMap():\r\n",
        "\r\n",
        "  person1 = {\r\n",
        "      'name' : 'Huguinho',\r\n",
        "      'title' : 'Expert IT Techonology'\r\n",
        "  };\r\n",
        "\r\n",
        "  person2 = {\r\n",
        "      'name' : 'User 2',\r\n",
        "      'title' : 'Student from everis Aceleration'\r\n",
        "  };\r\n",
        "\r\n",
        "  lista = [];\r\n",
        "  lista.append( person1 );\r\n",
        "  lista.append( person2 );\r\n",
        "\r\n",
        "  print('tamanho do array', len( lista ) );\r\n",
        "\r\n",
        "  for obj in lista:\r\n",
        "    print('Nome: ', obj['name'], ' | title: ', obj['title'] );\r\n",
        "\r\n",
        "forWithMap();"
      ],
      "execution_count": null,
      "outputs": [
        {
          "output_type": "stream",
          "text": [
            "tamanho do array 2\n",
            "Nome:  Huguinho  | title:  Expert IT Techonology\n",
            "Nome:  User 2  | title:  Student from everis Aceleration\n"
          ],
          "name": "stdout"
        }
      ]
    }
  ]
}